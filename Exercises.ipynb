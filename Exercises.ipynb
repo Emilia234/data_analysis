{
  "cells": [
    {
      "cell_type": "markdown",
      "metadata": {
        "id": "6XASM-kAj5Ih"
      },
      "source": [
        "![rmotr](https://user-images.githubusercontent.com/7065401/52071918-bda15380-2562-11e9-828c-7f95297e4a82.png)\n",
        "<hr style=\"margin-bottom: 40px;\">\n",
        "\n",
        "# Python in under 10 minutes - Exercises\n"
      ]
    },
    {
      "cell_type": "markdown",
      "metadata": {
        "id": "SF_MWBeGj5Ii"
      },
      "source": [
        "![green-divider](https://user-images.githubusercontent.com/7065401/52071924-c003ad80-2562-11e9-8297-1c6595f8a7ff.png)\n",
        "\n",
        "### Exercise 1\n",
        "\n",
        "Convert the following `str` into `int` type.\n",
        "\n",
        "`revenue_as_string = \"500000\"`"
      ]
    },
    {
      "cell_type": "code",
      "execution_count": 1,
      "metadata": {
        "id": "cBz7RQMkj5Ij",
        "outputId": "57ebf87b-3e9a-445a-c7a9-9958f89e5b44",
        "colab": {
          "base_uri": "https://localhost:8080/"
        }
      },
      "outputs": [
        {
          "output_type": "execute_result",
          "data": {
            "text/plain": [
              "500000"
            ]
          },
          "metadata": {},
          "execution_count": 1
        }
      ],
      "source": [
        "revenue_as_string = \"500000\"\n",
        "\n",
        "# your code goes here\n",
        "int(500000)\n"
      ]
    },
    {
      "cell_type": "code",
      "execution_count": null,
      "metadata": {
        "cell_type": "solution",
        "id": "fS9fRmr2j5Ik",
        "outputId": "761728f1-a59a-479f-c7a3-b4f9793219b5"
      },
      "outputs": [
        {
          "data": {
            "text/plain": [
              "500000"
            ]
          },
          "execution_count": 13,
          "metadata": {},
          "output_type": "execute_result"
        }
      ],
      "source": [
        "revenue_as_integer = int(revenue_as_string)\n",
        "\n",
        "revenue_as_integer"
      ]
    },
    {
      "cell_type": "markdown",
      "metadata": {
        "id": "2fGyrF4Oj5Ik"
      },
      "source": [
        "![green-divider](https://user-images.githubusercontent.com/7065401/52071924-c003ad80-2562-11e9-8297-1c6595f8a7ff.png)\n",
        "\n",
        "### Exercise 2\n",
        "\n",
        "Make a function using the following formula:\n",
        "\n",
        "$$ f(x,y) = 2 x + y $$"
      ]
    },
    {
      "cell_type": "code",
      "execution_count": 3,
      "metadata": {
        "id": "8EEtp7Obj5Ik"
      },
      "outputs": [],
      "source": [
        "# your code goes here\n",
        "def f(x, y):\n",
        "  return 2*x + y"
      ]
    },
    {
      "cell_type": "markdown",
      "metadata": {
        "cell_type": "hint",
        "id": "bUkl_kUTj5Il"
      },
      "source": [
        "The function will have two parameters $x$ and $y$."
      ]
    },
    {
      "cell_type": "code",
      "execution_count": 5,
      "metadata": {
        "cell_type": "solution",
        "id": "33SonEitj5Il"
      },
      "outputs": [],
      "source": [
        "def func(x, y):\n",
        "    return 2*x + y"
      ]
    },
    {
      "cell_type": "code",
      "execution_count": 6,
      "metadata": {
        "id": "mS_359pSj5Il",
        "outputId": "89e59450-fe51-4d59-ab2d-542c769e7032",
        "colab": {
          "base_uri": "https://localhost:8080/"
        }
      },
      "outputs": [
        {
          "output_type": "execute_result",
          "data": {
            "text/plain": [
              "25"
            ]
          },
          "metadata": {},
          "execution_count": 6
        }
      ],
      "source": [
        "func(10, 5)"
      ]
    },
    {
      "cell_type": "code",
      "execution_count": 7,
      "metadata": {
        "id": "yZ-u7I5uj5Il",
        "outputId": "ed8e77e5-506d-4fc6-db7f-6b8a212ac954",
        "colab": {
          "base_uri": "https://localhost:8080/"
        }
      },
      "outputs": [
        {
          "output_type": "execute_result",
          "data": {
            "text/plain": [
              "4"
            ]
          },
          "metadata": {},
          "execution_count": 7
        }
      ],
      "source": [
        "func(-3, 10)"
      ]
    },
    {
      "cell_type": "markdown",
      "metadata": {
        "id": "su3K_muaj5Im"
      },
      "source": [
        "![green-divider](https://user-images.githubusercontent.com/7065401/52071924-c003ad80-2562-11e9-8297-1c6595f8a7ff.png)\n",
        "\n",
        "### Exercise 3\n",
        "\n",
        "Make a function that receives a string as parameter and return the last letter on it."
      ]
    },
    {
      "cell_type": "code",
      "execution_count": 8,
      "metadata": {
        "id": "5kqebYqXj5Im"
      },
      "outputs": [],
      "source": [
        "# your code goes here\n",
        "def last_letter(s):\n",
        "  return s[-1]\n"
      ]
    },
    {
      "cell_type": "code",
      "execution_count": 9,
      "metadata": {
        "cell_type": "solution",
        "id": "DJTxA0wIj5Im"
      },
      "outputs": [],
      "source": [
        "def last_letter(string):\n",
        "    return string[-1]"
      ]
    },
    {
      "cell_type": "code",
      "execution_count": 10,
      "metadata": {
        "id": "DuZgJJk_j5Im",
        "outputId": "bbe5b113-dc3b-41ee-b2d1-f6bbeeeeea16",
        "colab": {
          "base_uri": "https://localhost:8080/",
          "height": 36
        }
      },
      "outputs": [
        {
          "output_type": "execute_result",
          "data": {
            "text/plain": [
              "'n'"
            ],
            "application/vnd.google.colaboratory.intrinsic+json": {
              "type": "string"
            }
          },
          "metadata": {},
          "execution_count": 10
        }
      ],
      "source": [
        "last_letter('Python')"
      ]
    },
    {
      "cell_type": "code",
      "execution_count": 11,
      "metadata": {
        "id": "uqGS0JZhj5Im",
        "outputId": "641b413f-7bd2-4a37-bcdf-069c8f7b111c",
        "colab": {
          "base_uri": "https://localhost:8080/",
          "height": 36
        }
      },
      "outputs": [
        {
          "output_type": "execute_result",
          "data": {
            "text/plain": [
              "'R'"
            ],
            "application/vnd.google.colaboratory.intrinsic+json": {
              "type": "string"
            }
          },
          "metadata": {},
          "execution_count": 11
        }
      ],
      "source": [
        "last_letter('RMOTR')"
      ]
    },
    {
      "cell_type": "markdown",
      "metadata": {
        "id": "kyQX0hwnj5Im"
      },
      "source": [
        "![green-divider](https://user-images.githubusercontent.com/7065401/52071924-c003ad80-2562-11e9-8297-1c6595f8a7ff.png)\n",
        "\n",
        "### Exercise 4\n",
        "\n",
        "Make a function that receives a list as parameter and return how many elements it has; if it doesn't have any element return an error."
      ]
    },
    {
      "cell_type": "code",
      "execution_count": 14,
      "metadata": {
        "id": "O96pkC8Aj5In"
      },
      "outputs": [],
      "source": [
        "# your code goes here\n",
        "def lista(l):\n",
        "  if len(l) != 0:\n",
        "    return l\n",
        "  else:\n",
        "    return 'Error'\n",
        "\n"
      ]
    },
    {
      "cell_type": "code",
      "execution_count": 15,
      "metadata": {
        "cell_type": "solution",
        "id": "5vRtKIoaj5In"
      },
      "outputs": [],
      "source": [
        "def list_size(my_list):\n",
        "    size = len(my_list)\n",
        "\n",
        "    if (size > 0):\n",
        "        return 'List has {} elements'.format(size)\n",
        "    else:\n",
        "        return 'Error, no elements'"
      ]
    },
    {
      "cell_type": "code",
      "execution_count": 16,
      "metadata": {
        "id": "kmqRzh1Lj5In",
        "outputId": "32251c17-5aa8-44fa-f3c7-78fe81b467e8",
        "colab": {
          "base_uri": "https://localhost:8080/",
          "height": 36
        }
      },
      "outputs": [
        {
          "output_type": "execute_result",
          "data": {
            "text/plain": [
              "'List has 3 elements'"
            ],
            "application/vnd.google.colaboratory.intrinsic+json": {
              "type": "string"
            }
          },
          "metadata": {},
          "execution_count": 16
        }
      ],
      "source": [
        "list_size([1, 2, 3])"
      ]
    },
    {
      "cell_type": "code",
      "execution_count": 17,
      "metadata": {
        "id": "zX6xmGLwj5In",
        "outputId": "f05a3b6b-cff4-4ab6-c986-bc9d3dcf5192",
        "colab": {
          "base_uri": "https://localhost:8080/",
          "height": 36
        }
      },
      "outputs": [
        {
          "output_type": "execute_result",
          "data": {
            "text/plain": [
              "'Error, no elements'"
            ],
            "application/vnd.google.colaboratory.intrinsic+json": {
              "type": "string"
            }
          },
          "metadata": {},
          "execution_count": 17
        }
      ],
      "source": [
        "list_size([])"
      ]
    },
    {
      "cell_type": "markdown",
      "metadata": {
        "id": "lTYm0uumj5In"
      },
      "source": [
        "![purple-divider](https://user-images.githubusercontent.com/7065401/52071927-c1cd7100-2562-11e9-908a-dde91ba14e59.png)"
      ]
    }
  ],
  "metadata": {
    "kernelspec": {
      "display_name": "Python 3",
      "language": "python",
      "name": "python3"
    },
    "language_info": {
      "codemirror_mode": {
        "name": "ipython",
        "version": 3
      },
      "file_extension": ".py",
      "mimetype": "text/x-python",
      "name": "python",
      "nbconvert_exporter": "python",
      "pygments_lexer": "ipython3",
      "version": "3.6.8"
    },
    "colab": {
      "provenance": []
    }
  },
  "nbformat": 4,
  "nbformat_minor": 0
}